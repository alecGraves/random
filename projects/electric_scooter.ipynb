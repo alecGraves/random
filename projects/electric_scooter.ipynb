{
 "cells": [
  {
   "cell_type": "code",
   "execution_count": 3,
   "metadata": {
    "collapsed": true
   },
   "outputs": [],
   "source": [
    "import matplotlib.pyplot as plt\n",
    "import numpy as np"
   ]
  },
  {
   "cell_type": "code",
   "execution_count": 36,
   "metadata": {},
   "outputs": [
    {
     "name": "stdout",
     "output_type": "stream",
     "text": [
      "Friction force: 126.00756318350894 N\n"
     ]
    }
   ],
   "source": [
    "m = 100 # kg\n",
    "g = 9.8 # m/s**2\n",
    "\n",
    "N = m*g # N, normal force\n",
    "\n",
    "cl_tire = 4e-3 # m, rolling friction coeff - dimension length\n",
    "r_tire = 15.2e-2 # m (6 in), radius of wheel\n",
    "Froll = cl_tire * N / r_tire # N, road rolling friction force\n",
    "\n",
    "cl_axel = 0.1e-3 # m, rolling friction coeff - dimension length\n",
    "r_bearing = 1e-3 # m, radius of the bearing\n",
    "# n_bearing = 5 # number of bearings # Cancels out, N distributed over them\n",
    "Faxel = (cl_axel * N / r_bearing) # N, axel rolling friction force\n",
    "\n",
    "cd = 1.5 # coeff of drag\n",
    "rho = 1.1839 # kg/m**3, mass density of air @ 25degC\n",
    "u = 5 * 1000/.621371192237 * 1/3600 # m/s, flow speed of object relative to air @ 5 mph\n",
    "A = 0.5 # m**2, frontal cross-sectional area of a human leaning slightly forward\n",
    "Fdrag = cd * rho * u**2 * A / 2 # N, drag force\n",
    "\n",
    "Ffriction = Froll + Faxel + Fdrag # N, total friction force to overcome\n",
    "print('Friction force:', Ffriction, 'N')\n"
   ]
  },
  {
   "cell_type": "code",
   "execution_count": 43,
   "metadata": {},
   "outputs": [
    {
     "name": "stdout",
     "output_type": "stream",
     "text": [
      "Distance on battery: 0.49706711720369784 miles\n"
     ]
    }
   ],
   "source": [
    "# Battery capacity:\n",
    "bat_capacity = 10 # Ah\n",
    "bat_voltage = 14 # v\n",
    "E = bat_capacity * bat_voltage * 3600 # J, N . m, total battery energy\n",
    "\n",
    "cf = 0.4 # coefficient of friction of tires with road\n",
    "em = 0.5 # motor efficiency\n",
    "Dist = E*cf*em/Ffriction # m, distance that can be travelled on battery in m\n",
    "Dist = Dist  * .621371192237/1000 # miles, sorry, im american...\n",
    "print('Distance on battery:', Dist, 'miles')"
   ]
  }
 ],
 "metadata": {
  "kernelspec": {
   "display_name": "Python 3",
   "language": "python",
   "name": "python3"
  },
  "language_info": {
   "codemirror_mode": {
    "name": "ipython",
    "version": 3
   },
   "file_extension": ".py",
   "mimetype": "text/x-python",
   "name": "python",
   "nbconvert_exporter": "python",
   "pygments_lexer": "ipython3",
   "version": "3.6.3"
  }
 },
 "nbformat": 4,
 "nbformat_minor": 2
}
